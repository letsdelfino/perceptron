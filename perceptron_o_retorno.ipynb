{
 "cells": [
  {
   "cell_type": "code",
   "execution_count": 113,
   "metadata": {
    "collapsed": false
   },
   "outputs": [],
   "source": [
    "import numpy as np\n",
    "import matplotlib.pyplot as plt\n",
    "import random as rand\n",
    "\n",
    "#def _init_(self, amostra, taxa_aprendizado=, saida):\n",
    "#    self.amostras = amostra\n",
    "#    self.saidas = saidas\n",
    "#    self.taxa_aprendizado = taxa_aprendizado\n",
    "#    self.epocas = epocas\n",
    "#    self.limiar = limiar\n",
    "#    self.n_amostras = len(amostras)\n",
    "#    self.n_atributos = len(amostras[0])\n",
    "#    self.pesos = []\n",
    "\n",
    "#max_int: quantidade de épocas\n",
    "#E: quantidade de erros comeridos\n",
    "#a: taxa de aprendizado\n",
    "#X: vetor de amostras\n",
    "#d: saídas conhecidas\n",
    "\n",
    "def perceptron(max_it, E, a , X, d):\n",
    "    pesos = []*2\n",
    "    bais = 0\n",
    "    y = []*4\n",
    "    e = []*4\n",
    "    t = 1\n",
    "    \n",
    "    #for i in range(1):\n",
    "    pesos.append(rand.random())\n",
    "    print(pesos)\n",
    "        \n",
    "    bais = rand.random()\n",
    "                        \n",
    "    while(t < max_it and E > 0):\n",
    "        for i in range(len(X)):\n",
    "            #aux = 0\n",
    "            u = bias\n",
    "            for j in range(2):\n",
    "                u +=  X[i][j]* pesos[j]\n",
    "            #criar função de ativação\n",
    "                      \n",
    "            #y[i] = aux\n",
    "            e[i] = d[i] - y[i]\n",
    "            if(e[i] != 0):\n",
    "                        E = + 1\n",
    "            for j in range(1):\n",
    "                w[j] = w[j] + a * e[i] * x[i]\n",
    "            bias = bias + a * e[i]\n",
    "        t = t + 1\n",
    "    return w, bias"
   ]
  },
  {
   "cell_type": "code",
   "execution_count": 114,
   "metadata": {
    "collapsed": false
   },
   "outputs": [
    {
     "name": "stdout",
     "output_type": "stream",
     "text": [
      "[0.2829674222485379]\n"
     ]
    },
    {
     "ename": "IndexError",
     "evalue": "list assignment index out of range",
     "output_type": "error",
     "traceback": [
      "\u001b[0;31m---------------------------------------------------------------------------\u001b[0m",
      "\u001b[0;31mIndexError\u001b[0m                                Traceback (most recent call last)",
      "\u001b[0;32m<ipython-input-114-6f46b15c356f>\u001b[0m in \u001b[0;36m<module>\u001b[0;34m()\u001b[0m\n\u001b[1;32m     26\u001b[0m \u001b[1;33m\u001b[0m\u001b[0m\n\u001b[1;32m     27\u001b[0m \u001b[1;32mif\u001b[0m \u001b[0m__name__\u001b[0m \u001b[1;33m==\u001b[0m \u001b[1;34m'__main__'\u001b[0m\u001b[1;33m:\u001b[0m\u001b[1;33m\u001b[0m\u001b[0m\n\u001b[0;32m---> 28\u001b[0;31m     \u001b[0mmain\u001b[0m\u001b[1;33m(\u001b[0m\u001b[1;33m)\u001b[0m\u001b[1;33m\u001b[0m\u001b[0m\n\u001b[0m",
      "\u001b[0;32m<ipython-input-114-6f46b15c356f>\u001b[0m in \u001b[0;36mmain\u001b[0;34m()\u001b[0m\n\u001b[1;32m     22\u001b[0m \u001b[1;33m\u001b[0m\u001b[0m\n\u001b[1;32m     23\u001b[0m     \u001b[1;31m# Implemente a função Percepton que deve retornar o vetor de pesos e o bias, respectivamente.\u001b[0m\u001b[1;33m\u001b[0m\u001b[1;33m\u001b[0m\u001b[0m\n\u001b[0;32m---> 24\u001b[0;31m     \u001b[0mpesos\u001b[0m\u001b[1;33m,\u001b[0m \u001b[0mbias\u001b[0m \u001b[1;33m=\u001b[0m \u001b[0mperceptron\u001b[0m\u001b[1;33m(\u001b[0m\u001b[0mmax_it\u001b[0m\u001b[1;33m=\u001b[0m\u001b[1;36m100\u001b[0m\u001b[1;33m,\u001b[0m \u001b[0mE\u001b[0m\u001b[1;33m=\u001b[0m\u001b[1;36m1\u001b[0m\u001b[1;33m,\u001b[0m \u001b[0ma\u001b[0m\u001b[1;33m=\u001b[0m\u001b[1;36m.1\u001b[0m\u001b[1;33m,\u001b[0m \u001b[0mX\u001b[0m\u001b[1;33m=\u001b[0m\u001b[0mX\u001b[0m\u001b[1;33m,\u001b[0m \u001b[0md\u001b[0m\u001b[1;33m=\u001b[0m\u001b[0md\u001b[0m\u001b[1;33m)\u001b[0m\u001b[1;33m\u001b[0m\u001b[0m\n\u001b[0m\u001b[1;32m     25\u001b[0m     \u001b[0mplotar\u001b[0m\u001b[1;33m(\u001b[0m\u001b[0mw\u001b[0m\u001b[1;33m[\u001b[0m\u001b[1;36m0\u001b[0m\u001b[1;33m]\u001b[0m\u001b[1;33m,\u001b[0m\u001b[0mw\u001b[0m\u001b[1;33m[\u001b[0m\u001b[1;36m1\u001b[0m\u001b[1;33m]\u001b[0m\u001b[1;33m,\u001b[0m\u001b[0mbias\u001b[0m\u001b[1;33m,\u001b[0m\u001b[1;34m\"Porta lógica AND com Perceptron\"\u001b[0m\u001b[1;33m)\u001b[0m\u001b[1;33m\u001b[0m\u001b[0m\n\u001b[1;32m     26\u001b[0m \u001b[1;33m\u001b[0m\u001b[0m\n",
      "\u001b[0;32m<ipython-input-113-e5494e651044>\u001b[0m in \u001b[0;36mperceptron\u001b[0;34m(max_it, E, a, X, d)\u001b[0m\n\u001b[1;32m     37\u001b[0m             \u001b[1;32mfor\u001b[0m \u001b[0mj\u001b[0m \u001b[1;32min\u001b[0m \u001b[0mrange\u001b[0m\u001b[1;33m(\u001b[0m\u001b[1;36m1\u001b[0m\u001b[1;33m)\u001b[0m\u001b[1;33m:\u001b[0m\u001b[1;33m\u001b[0m\u001b[0m\n\u001b[1;32m     38\u001b[0m                \u001b[0maux\u001b[0m \u001b[1;33m=\u001b[0m \u001b[0maux\u001b[0m \u001b[1;33m*\u001b[0m \u001b[0mpesos\u001b[0m\u001b[1;33m[\u001b[0m\u001b[0mj\u001b[0m\u001b[1;33m]\u001b[0m \u001b[1;33m+\u001b[0m \u001b[0mbais\u001b[0m\u001b[1;33m\u001b[0m\u001b[0m\n\u001b[0;32m---> 39\u001b[0;31m             \u001b[0my\u001b[0m\u001b[1;33m[\u001b[0m\u001b[0mi\u001b[0m\u001b[1;33m]\u001b[0m \u001b[1;33m=\u001b[0m \u001b[0maux\u001b[0m\u001b[1;33m\u001b[0m\u001b[0m\n\u001b[0m\u001b[1;32m     40\u001b[0m             \u001b[0me\u001b[0m\u001b[1;33m[\u001b[0m\u001b[0mi\u001b[0m\u001b[1;33m]\u001b[0m \u001b[1;33m=\u001b[0m \u001b[0md\u001b[0m\u001b[1;33m[\u001b[0m\u001b[0mi\u001b[0m\u001b[1;33m]\u001b[0m \u001b[1;33m-\u001b[0m \u001b[0my\u001b[0m\u001b[1;33m[\u001b[0m\u001b[0mi\u001b[0m\u001b[1;33m]\u001b[0m\u001b[1;33m\u001b[0m\u001b[0m\n\u001b[1;32m     41\u001b[0m             \u001b[1;32mif\u001b[0m\u001b[1;33m(\u001b[0m\u001b[0me\u001b[0m\u001b[1;33m[\u001b[0m\u001b[0mi\u001b[0m\u001b[1;33m]\u001b[0m \u001b[1;33m!=\u001b[0m \u001b[1;36m0\u001b[0m\u001b[1;33m)\u001b[0m\u001b[1;33m:\u001b[0m\u001b[1;33m\u001b[0m\u001b[0m\n",
      "\u001b[0;31mIndexError\u001b[0m: list assignment index out of range"
     ]
    }
   ],
   "source": [
    "def plotar(w1,w2,bias,title):\n",
    "    xvals = np.arange(-1, 3, 0.01)     \n",
    "    newyvals = (((xvals * w2) * - 1) - bias) / w1\n",
    "    plt.plot(xvals, newyvals, 'r-')    \n",
    "    plt.title(title)\n",
    "    plt.xlabel('X1')\n",
    "    plt.ylabel('X2')\n",
    "    plt.axis([-1,2,-1,2])\n",
    "    plt.plot([0,1,0],[0,0,1], 'b^')\n",
    "    plt.plot([1],[1], 'go')\n",
    "    plt.xticks([0,1])\n",
    "    plt.yticks([0,1])\n",
    "    plt.show()\n",
    "    \n",
    "def main():\n",
    "    X = [[1,1],[1,0],[0,1],[0,0]]\n",
    "    d = [1,-1,-1,-1]\n",
    "    \n",
    "    # Implemente a função Adaline que deve retornar o vetor de pesos e o bias, respectivamente.\n",
    "    #w, bias = adaline(max_it=100, Epsilon=.0000001, alpha=.1, X=X, d=d)\n",
    "    #plotar(w[0],w[1],bias,\"Porta lógica AND com Adaline\")\n",
    "    \n",
    "    # Implemente a função Percepton que deve retornar o vetor de pesos e o bias, respectivamente.\n",
    "    pesos, bias = perceptron(max_it=100, E=1, a=.1, X=X, d=d)\n",
    "    plotar(w[0],w[1],bias,\"Porta lógica AND com Perceptron\")\n",
    "\n",
    "if __name__ == '__main__':\n",
    "    main()"
   ]
  },
  {
   "cell_type": "code",
   "execution_count": null,
   "metadata": {
    "collapsed": true
   },
   "outputs": [],
   "source": []
  }
 ],
 "metadata": {
  "kernelspec": {
   "display_name": "Python 3",
   "language": "python",
   "name": "python3"
  },
  "language_info": {
   "codemirror_mode": {
    "name": "ipython",
    "version": 3
   },
   "file_extension": ".py",
   "mimetype": "text/x-python",
   "name": "python",
   "nbconvert_exporter": "python",
   "pygments_lexer": "ipython3",
   "version": "3.6.0"
  }
 },
 "nbformat": 4,
 "nbformat_minor": 2
}
