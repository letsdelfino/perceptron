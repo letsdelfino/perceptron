{
 "cells": [
  {
   "cell_type": "code",
   "execution_count": 484,
   "metadata": {},
   "outputs": [],
   "source": [
    "import numpy as np\n",
    "import matplotlib.pyplot as plt\n",
    "import random #as rand\n",
    "from random import randint\n",
    "\n",
    "#def _init_(self, amostra, taxa_aprendizado=, saida):\n",
    "#    self.amostras = amostra\n",
    "#    self.saidas = saidas\n",
    "#    self.taxa_aprendizado = taxa_aprendizado\n",
    "#    self.epocas = epocas\n",
    "#    self.limiar = limiar\n",
    "#    self.n_amostras = len(amostras)\n",
    "#    self.n_atributos = len(amostras[0])\n",
    "#    self.pesos = []\n",
    "\n",
    "#max_int: quantidade de épocas\n",
    "#E: quantidade de erros comeridos\n",
    "#a: taxa de aprendizado\n",
    "#X: vetor de amostras\n",
    "#d: saídas conhecidas\n",
    "\n",
    "def perceptron(max_it, E, a , X, d):\n",
    "    pesos = [] \n",
    "    bias= 0\n",
    "    y = []\n",
    "    e = []\n",
    "    t = 1\n",
    "    \n",
    "    for i in range(2):\n",
    "        pesos.append(randint(0, 1))\n",
    "    for i in range(4):\n",
    "        y.append(0)\n",
    "    for i in range(4):\n",
    "        e.append(0)\n",
    "        \n",
    "    bais = randint(0, 1)\n",
    "    \n",
    "    print(pesos)\n",
    "    print(bias)\n",
    "                        \n",
    "    while(t < max_it and E > 0):\n",
    "        for i in range(len(X)):\n",
    "            u = bias\n",
    "            for j in range(2):\n",
    "                u +=  X[i][j]*pesos[j]\n",
    "            if(u > 0):\n",
    "                y[i] = 1\n",
    "            if(u<=0):\n",
    "                y[i] = -1\n",
    "            e[i] = d[i] - y[i]\n",
    "            if(e[i] != 0):\n",
    "                E += 1\n",
    "            for k in range(2):\n",
    "                pesos[k] += a * e[i] * X[i][k] + bias\n",
    "            bias += a * e[i]\n",
    "        t += 1\n",
    "    return pesos, bias"
   ]
  },
  {
   "cell_type": "code",
   "execution_count": 485,
   "metadata": {},
   "outputs": [
    {
     "name": "stdout",
     "output_type": "stream",
     "text": [
      "[1, 0]\n",
      "0\n"
     ]
    },
    {
     "data": {
      "image/png": "[encoded data removed]",
      "text/plain": [
       "<Figure size 432x288 with 1 Axes>"
      ]
     },
     "metadata": {
      "needs_background": "light"
     },
     "output_type": "display_data"
    }
   ],
   "source": [
    "def plotar(w1,w2,bias,title):\n",
    "    xvals = np.arange(-1, 3, 0.01)     \n",
    "    newyvals = (((xvals * w2) * - 1) - bias) / w1\n",
    "    plt.plot(xvals, newyvals, 'r-')    \n",
    "    plt.title(title)\n",
    "    plt.xlabel('X1')\n",
    "    plt.ylabel('X2')\n",
    "    plt.axis([-1,2,-1,2])\n",
    "    plt.plot([0,1,0],[0,0,1], 'b^')\n",
    "    plt.plot([1],[1], 'go')\n",
    "    plt.xticks([0,1])\n",
    "    plt.yticks([0,1])\n",
    "    plt.show()\n",
    "    \n",
    "def main():\n",
    "    X = [[1,1],[1,0],[0,1],[0,0]]\n",
    "    d = [1,-1,-1,-1]\n",
    "    \n",
    "    # Implemente a função Adaline que deve retornar o vetor de pesos e o bias, respectivamente.\n",
    "    #w, bias = adaline(max_it=100, Epsilon=.0000001, alpha=.1, X=X, d=d)\n",
    "    #plotar(w[0],w[1],bias,\"Porta lógica AND com Adaline\")\n",
    "    \n",
    "    # Implemente a função Percepton que deve retornar o vetor de pesos e o bias, respectivamente.\n",
    "    pesos, bias = perceptron(max_it=300, E=1, a=0.6, X=X, d=d)\n",
    "    plotar(pesos[0],pesos[1],bias,\"Porta lógica AND com Perceptron\")\n",
    "\n",
    "if __name__ == '__main__':\n",
    "    main()"
   ]
  },
  {
   "cell_type": "code",
   "execution_count": null,
   "metadata": {
    "collapsed": true
   },
   "outputs": [],
   "source": []
  }
 ],
 "metadata": {
  "kernelspec": {
   "display_name": "Python 3",
   "language": "python",
   "name": "python3"
  },
  "language_info": {
   "codemirror_mode": {
    "name": "ipython",
    "version": 3
   },
   "file_extension": ".py",
   "mimetype": "text/x-python",
   "name": "python",
   "nbconvert_exporter": "python",
   "pygments_lexer": "ipython3",
   "version": "3.7.3"
  }
 },
 "nbformat": 4,
 "nbformat_minor": 2
}
