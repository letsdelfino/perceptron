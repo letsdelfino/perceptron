{
 "cells": [
  {
   "cell_type": "code",
   "execution_count": 1,
   "metadata": {},
   "outputs": [
    {
     "ename": "IndentationError",
     "evalue": "expected an indented block (<ipython-input-1-4344022e5a5f>, line 31)",
     "output_type": "error",
     "traceback": [
      "\u001b[1;36m  File \u001b[1;32m\"<ipython-input-1-4344022e5a5f>\"\u001b[1;36m, line \u001b[1;32m31\u001b[0m\n\u001b[1;33m    w, bias = perceptron(max_it=100, E=1, alpha=.1, X=X, d=d)\u001b[0m\n\u001b[1;37m    ^\u001b[0m\n\u001b[1;31mIndentationError\u001b[0m\u001b[1;31m:\u001b[0m expected an indented block\n"
     ]
    }
   ],
   "source": [
    "import numpy as np\n",
    "import matplotlib.pyplot as plt\n",
    "import random, copyram\n",
    "\n",
    "#def _init_(self, amostra, taxa_aprendizado=, saida):\n",
    "#    self.amostras = amostra\n",
    "#    self.saidas = saidas\n",
    "#    self.taxa_aprendizado = taxa_aprendizado\n",
    "#    self.epocas = epocas\n",
    "#    self.limiar = limiar\n",
    "#    self.n_amostras = len(amostras)\n",
    "#    self.n_atributos = len(amostras[0])\n",
    "#    self.pesos = []"
   ]
  },
  {
   "cell_type": "code",
   "execution_count": null,
   "metadata": {},
   "outputs": [],
   "source": [
    "def plotar(w1,w2,bias,title):\n",
    "    xvals = np.arange(-1, 3, 0.01)     \n",
    "    newyvals = (((xvals * w2) * - 1) - bias) / w1\n",
    "    plt.plot(xvals, newyvals, 'r-')    \n",
    "    plt.title(title)\n",
    "    plt.xlabel('X1')\n",
    "    plt.ylabel('X2')\n",
    "    plt.axis([-1,2,-1,2])\n",
    "    plt.plot([0,1,0],[0,0,1], 'b^')\n",
    "    plt.plot([1],[1], 'go')\n",
    "    plt.xticks([0,1])\n",
    "    plt.yticks([0,1])\n",
    "    plt.show()\n",
    "    \n",
    "def main():\n",
    "    X = [[1,1],[1,0],[0,1],[0,0]]\n",
    "    d = [1,-1,-1,-1]\n",
    "    \n",
    "    # Implemente a função Adaline que deve retornar o vetor de pesos e o bias, respectivamente.\n",
    "    \n",
    "    def perceptron(max_int, E, a, X, d):\n",
    "        pesos = []*5\n",
    "        bais = 0\n",
    "        for i in range(2):\n",
    "            pesos.append(random(0,1))\n",
    "        \n",
    "        while\n",
    "    \n",
    "    #w, bias = adaline(max_it=100, Epsilon=.0000001, alpha=.1, X=X, d=d)\n",
    "    #plotar(w[0],w[1],bias,\"Porta lógica AND com Adaline\")\n",
    "    \n",
    "    # Implemente a função Percepton que deve retornar o vetor de pesos e o bias, respectivamente.\n",
    "    w, bias = perceptron(max_it=100, E=1, alpha=.1, X=X, d=d)\n",
    "    plotar(w[0],w[1],bias,\"Porta lógica AND com Perceptron\")\n",
    "\n",
    "if __name__ == '__main__':"
   ]
  }
 ],
 "metadata": {
  "kernelspec": {
   "display_name": "Python 3",
   "language": "python",
   "name": "python3"
  },
  "language_info": {
   "codemirror_mode": {
    "name": "ipython",
    "version": 3
   },
   "file_extension": ".py",
   "mimetype": "text/x-python",
   "name": "python",
   "nbconvert_exporter": "python",
   "pygments_lexer": "ipython3",
   "version": "3.7.3"
  }
 },
 "nbformat": 4,
 "nbformat_minor": 2
}
