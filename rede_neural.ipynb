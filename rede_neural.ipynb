{
 "cells": [
  {
   "cell_type": "code",
   "execution_count": 5,
   "metadata": {},
   "outputs": [
    {
     "ename": "SyntaxError",
     "evalue": "invalid syntax (<ipython-input-5-29a6348a6784>, line 4)",
     "output_type": "error",
     "traceback": [
      "\u001b[1;36m  File \u001b[1;32m\"<ipython-input-5-29a6348a6784>\"\u001b[1;36m, line \u001b[1;32m4\u001b[0m\n\u001b[1;33m    def _init_(self, amostra [], taxa_aprendizado=0.01, saida):\u001b[0m\n\u001b[1;37m                             ^\u001b[0m\n\u001b[1;31mSyntaxError\u001b[0m\u001b[1;31m:\u001b[0m invalid syntax\n"
     ]
    }
   ],
   "source": [
    "import random\n",
    "import math\n",
    "\n",
    "def _init_(self, amostra [], taxa_aprendizado=0.01, saida):\n",
    "    self.amostras = amostra\n",
    "    self.saidas = saidas\n",
    "    self.taxa_aprendizado = taxa_aprendizado\n",
    "    self.pesos = []\n",
    "    \n",
    "def sigmoide(resultado):\n",
    "   return math.atanh(resultado)\n",
    "\n",
    "def funcao_ativacao_1(pesos[],taxa_aprendizado_amostra[]):\n",
    "     "
   ]
  },
  {
   "cell_type": "code",
   "execution_count": null,
   "metadata": {},
   "outputs": [],
   "source": []
  }
 ],
 "metadata": {
  "kernelspec": {
   "display_name": "Python 3",
   "language": "python",
   "name": "python3"
  },
  "language_info": {
   "codemirror_mode": {
    "name": "ipython",
    "version": 3
   },
   "file_extension": ".py",
   "mimetype": "text/x-python",
   "name": "python",
   "nbconvert_exporter": "python",
   "pygments_lexer": "ipython3",
   "version": "3.7.3"
  }
 },
 "nbformat": 4,
 "nbformat_minor": 2
}
