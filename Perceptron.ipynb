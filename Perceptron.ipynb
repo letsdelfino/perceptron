{
 "cells": [
  {
   "cell_type": "code",
   "execution_count": 36,
   "metadata": {},
   "outputs": [],
   "source": [
    "# Implementação Perceptron\n",
    "\n",
    "import random, copy\n",
    "\n",
    "class Perceptron:\n",
    "    \n",
    "    def __init__(self, amostras, saidas, taxa_aprendizado=0.1, epocas=1000, limiar=-1):\n",
    "        self.amostras = copy.deepcopy(amostras)\n",
    "        self.saidas = saidas\n",
    "        self.taxa_aprendizado = taxa_aprendizado\n",
    "        self.epocas = epocas\n",
    "        self.limiar = limiar\n",
    "        self.n_amostras = len(amostras)\n",
    "        self.n_atributos = len(amostras[0])\n",
    "        self.pesos = []\n",
    "\n",
    "    def treinar(self):\n",
    "        for amostra in self.amostras:\n",
    "            amostra.insert(0, -1)\n",
    "\n",
    "        for i in range(self.n_atributos):\n",
    "            self.pesos.append(random.random())\n",
    "\n",
    "        self.pesos.insert(0, self.limiar)\n",
    "        n_epocas = 0 # contador de épocas\n",
    "\n",
    "        while True:\n",
    "\n",
    "            erro = False # erro inicialmente inexiste\n",
    "\n",
    "            for i in range(self.n_amostras):\n",
    "                u = 0\n",
    "                for j in range(self.n_atributos + 1):\n",
    "                    u += self.pesos[j] * self.amostras[i][j]\n",
    "                    \n",
    "                y = self.sinal(u) # obtém a saída da rede\n",
    "\n",
    "                # verifica se a saída da rede é diferente da saída desejada\n",
    "                if y != self.saidas[i]:\n",
    "                    # calcula o erro\n",
    "                    erro_aux = self.saidas[i] - y\n",
    "                    # faz o ajuste dos pesos para cada elemento da amostra\n",
    "                    for j in range(self.n_atributos + 1):\n",
    "                        self.pesos[j] = self.pesos[j] + self.taxa_aprendizado * erro_aux * self.amostras[i][j]\n",
    "                    erro = True # o erro ainda existe\n",
    "\n",
    "            n_epocas += 1 # incrementa o número de épocas\n",
    "\n",
    "            # critério de parada\n",
    "            if not erro or n_epocas > self.epocas:\n",
    "                break\n",
    "\n",
    "    def testar(self, amostra):\n",
    "        teste = copy.deepcopy(amostra)\n",
    "        \n",
    "        teste.insert(0, -1)\n",
    "        u = 0\n",
    "        \n",
    "        for i in range(self.n_atributos + 1):\n",
    "            u += self.pesos[i] * teste[i]\n",
    "        y = self.sinal(u)\n",
    "        return(y)\n",
    "\n",
    "    def degrau(self, u):\n",
    "        if u >= 0:\n",
    "            return 1\n",
    "        return 0\n",
    "\n",
    "    def sinal(self, u):\n",
    "        if u >= 0:\n",
    "            return 1\n",
    "        return -1\n",
    "    \n",
    "    \n",
    "class NeuralNet():\n",
    "    \n",
    "    def __init__(self, amostras, saidas, n_neurons = 0):\n",
    "        self.amostras = copy.deepcopy(amostras)\n",
    "        self.saidas = saidas\n",
    "        \n",
    "        if n_neurons is 0:\n",
    "            self.n_neurons = len(self.saidas)\n",
    "        else:\n",
    "            self.n_neurons = n_neurons\n",
    "            \n",
    "        self.neurons = self.__createNeurons()\n",
    "        \n",
    "            \n",
    "    def __createNeurons(self):\n",
    "        n = [] #vetor de perceptrons\n",
    "        \n",
    "        for i in range(self.n_neurons):\n",
    "            rede = Perceptron(self.amostras, self.saidas[i])\n",
    "            n.append(rede)\n",
    "            \n",
    "        return n\n",
    "    \n",
    "    def treinarRede(self):\n",
    "        for neuron in self.neurons:\n",
    "            neuron.treinar()\n",
    "            \n",
    "    def testarRede(self, data):\n",
    "        s = []\n",
    "        for neuron in self.neurons:\n",
    "            s.append(neuron.testar(data))\n",
    "            \n",
    "        return s\n"
   ]
  },
  {
   "cell_type": "code",
   "execution_count": 37,
   "metadata": {},
   "outputs": [
    {
     "data": {
      "text/plain": [
       "1"
      ]
     },
     "execution_count": 37,
     "metadata": {},
     "output_type": "execute_result"
    }
   ],
   "source": [
    "# OR\n",
    "amostras = [[0, 0], [0, 1], [1, 0], [1, 1]]\n",
    "saidas = [0, 1, 1, 1]\n",
    "rede = Perceptron(amostras, saidas)\n",
    "rede.treinar()\n",
    "rede.testar([1, 1])"
   ]
  },
  {
   "cell_type": "code",
   "execution_count": 38,
   "metadata": {},
   "outputs": [
    {
     "data": {
      "text/plain": [
       "1"
      ]
     },
     "execution_count": 38,
     "metadata": {},
     "output_type": "execute_result"
    }
   ],
   "source": [
    "# outro exemplo\n",
    "amostras = [[0.1, 0.4, 0.7], [0.3, 0.7, 0.2],\n",
    "\t\t\t[0.6, 0.9, 0.8], [0.5, 0.7, 0.1]]\n",
    "saidas = [1, -1, -1, 1]\n",
    "rede = Perceptron(amostras, saidas)\n",
    "rede.treinar()\n",
    "rede.testar([0.5, 0.7, 0.1])"
   ]
  },
  {
   "cell_type": "code",
   "execution_count": 30,
   "metadata": {},
   "outputs": [
    {
     "data": {
      "text/plain": [
       "-1"
      ]
     },
     "execution_count": 30,
     "metadata": {},
     "output_type": "execute_result"
    }
   ],
   "source": [
    "# azul ou vermelho?\n",
    "amostras = [[0.72, 0.82], [0.91, -0.69],\n",
    "\t\t\t\t[0.46, 0.80],   [0.03, 0.93],\n",
    "\t\t\t\t[0.12, 0.25],   [0.96, 0.47],\n",
    "\t\t\t\t[0.8, -0.75],   [0.46, 0.98],\n",
    "\t\t\t\t[0.66, 0.24],   [0.72, -0.15],\n",
    "\t\t\t\t[0.35, 0.01],   [-0.16, 0.84],\n",
    "\t\t\t\t[-0.04, 0.68],  [-0.11, 0.1],\n",
    "\t\t\t\t[0.31, -0.96],   [0.0, -0.26],\n",
    "\t\t\t\t[-0.43, -0.65],  [0.57, -0.97],\n",
    "\t\t\t\t[-0.47, -0.03],  [-0.72, -0.64],\n",
    "\t\t\t\t[-0.57, 0.15],   [-0.25, -0.43],\n",
    "\t\t\t\t[0.47, -0.88],   [-0.12, -0.9],\n",
    "\t\t\t\t[-0.58, 0.62],   [-0.48, 0.05],\n",
    "\t\t\t\t[-0.79, -0.92],  [-0.42, -0.09],\n",
    "\t\t\t\t[-0.76, 0.65],   [-0.77, -0.76]]\n",
    "\n",
    "saidas = [-1,-1,-1,-1,-1,-1, -1,-1,\n",
    "\t\t\t-1,-1,-1,-1,-1,1,1,1,1,\n",
    "\t\t\t1,1,1,1,1,1,1,1,1,1,1,1,1]\n",
    "rede = Perceptron(amostras, saidas)\n",
    "rede.treinar()\n",
    "rede.testar([0.46, 0.80])"
   ]
  },
  {
   "cell_type": "code",
   "execution_count": 39,
   "metadata": {},
   "outputs": [
    {
     "name": "stdout",
     "output_type": "stream",
     "text": [
      "[5.1, 3.5, 1.4, 0.2]\n",
      "[4.9, 3.0, 1.4, 0.2]\n",
      "[4.7, 3.2, 1.3, 0.2]\n",
      "[4.6, 3.1, 1.5, 0.2]\n",
      "[5.0, 3.6, 1.4, 0.2]\n",
      "[5.4, 3.9, 1.7, 0.4]\n",
      "[4.6, 3.4, 1.4, 0.3]\n",
      "[5.0, 3.4, 1.5, 0.2]\n",
      "[4.4, 2.9, 1.4, 0.2]\n",
      "[4.9, 3.1, 1.5, 0.1]\n",
      "[5.4, 3.7, 1.5, 0.2]\n",
      "[4.8, 3.4, 1.6, 0.2]\n",
      "[4.8, 3.0, 1.4, 0.1]\n",
      "[4.3, 3.0, 1.1, 0.1]\n",
      "[5.8, 4.0, 1.2, 0.2]\n",
      "[5.7, 4.4, 1.5, 0.4]\n",
      "[5.4, 3.9, 1.3, 0.4]\n",
      "[5.1, 3.5, 1.4, 0.3]\n",
      "[5.7, 3.8, 1.7, 0.3]\n",
      "[5.1, 3.8, 1.5, 0.3]\n",
      "[5.4, 3.4, 1.7, 0.2]\n",
      "[5.1, 3.7, 1.5, 0.4]\n",
      "[4.6, 3.6, 1.0, 0.2]\n",
      "[5.1, 3.3, 1.7, 0.5]\n",
      "[4.8, 3.4, 1.9, 0.2]\n",
      "[5.0, 3.0, 1.6, 0.2]\n",
      "[5.0, 3.4, 1.6, 0.4]\n",
      "[5.2, 3.5, 1.5, 0.2]\n",
      "[5.2, 3.4, 1.4, 0.2]\n",
      "[4.7, 3.2, 1.6, 0.2]\n",
      "[4.8, 3.1, 1.6, 0.2]\n",
      "[5.4, 3.4, 1.5, 0.4]\n",
      "[5.2, 4.1, 1.5, 0.1]\n",
      "[5.5, 4.2, 1.4, 0.2]\n",
      "[4.9, 3.1, 1.5, 0.1]\n",
      "[5.0, 3.2, 1.2, 0.2]\n",
      "[5.5, 3.5, 1.3, 0.2]\n",
      "[4.9, 3.1, 1.5, 0.1]\n",
      "[4.4, 3.0, 1.3, 0.2]\n",
      "[5.1, 3.4, 1.5, 0.2]\n",
      "[5.0, 3.5, 1.3, 0.3]\n",
      "[4.5, 2.3, 1.3, 0.3]\n",
      "[4.4, 3.2, 1.3, 0.2]\n",
      "[5.0, 3.5, 1.6, 0.6]\n",
      "[5.1, 3.8, 1.9, 0.4]\n",
      "[4.8, 3.0, 1.4, 0.3]\n",
      "[5.1, 3.8, 1.6, 0.2]\n",
      "[4.6, 3.2, 1.4, 0.2]\n",
      "[5.3, 3.7, 1.5, 0.2]\n",
      "[5.0, 3.3, 1.4, 0.2]\n",
      "[7.0, 3.2, 4.7, 1.4]\n",
      "[6.4, 3.2, 4.5, 1.5]\n",
      "[6.9, 3.1, 4.9, 1.5]\n",
      "[5.5, 2.3, 4.0, 1.3]\n",
      "[6.5, 2.8, 4.6, 1.5]\n",
      "[5.7, 2.8, 4.5, 1.3]\n",
      "[6.3, 3.3, 4.7, 1.6]\n",
      "[4.9, 2.4, 3.3, 1.0]\n",
      "[6.6, 2.9, 4.6, 1.3]\n",
      "[5.2, 2.7, 3.9, 1.4]\n",
      "[5.0, 2.0, 3.5, 1.0]\n",
      "[5.9, 3.0, 4.2, 1.5]\n",
      "[6.0, 2.2, 4.0, 1.0]\n",
      "[6.1, 2.9, 4.7, 1.4]\n",
      "[5.6, 2.9, 3.6, 1.3]\n",
      "[6.7, 3.1, 4.4, 1.4]\n",
      "[5.6, 3.0, 4.5, 1.5]\n",
      "[5.8, 2.7, 4.1, 1.0]\n",
      "[6.2, 2.2, 4.5, 1.5]\n",
      "[5.6, 2.5, 3.9, 1.1]\n",
      "[5.9, 3.2, 4.8, 1.8]\n",
      "[6.1, 2.8, 4.0, 1.3]\n",
      "[6.3, 2.5, 4.9, 1.5]\n",
      "[6.1, 2.8, 4.7, 1.2]\n",
      "[6.4, 2.9, 4.3, 1.3]\n",
      "[6.6, 3.0, 4.4, 1.4]\n",
      "[6.8, 2.8, 4.8, 1.4]\n",
      "[6.7, 3.0, 5.0, 1.7]\n",
      "[6.0, 2.9, 4.5, 1.5]\n",
      "[5.7, 2.6, 3.5, 1.0]\n",
      "[5.5, 2.4, 3.8, 1.1]\n",
      "[5.5, 2.4, 3.7, 1.0]\n",
      "[5.8, 2.7, 3.9, 1.2]\n",
      "[6.0, 2.7, 5.1, 1.6]\n",
      "[5.4, 3.0, 4.5, 1.5]\n",
      "[6.0, 3.4, 4.5, 1.6]\n",
      "[6.7, 3.1, 4.7, 1.5]\n",
      "[6.3, 2.3, 4.4, 1.3]\n",
      "[5.6, 3.0, 4.1, 1.3]\n",
      "[5.5, 2.5, 4.0, 1.3]\n",
      "[5.5, 2.6, 4.4, 1.2]\n",
      "[6.1, 3.0, 4.6, 1.4]\n",
      "[5.8, 2.6, 4.0, 1.2]\n",
      "[5.0, 2.3, 3.3, 1.0]\n",
      "[5.6, 2.7, 4.2, 1.3]\n",
      "[5.7, 3.0, 4.2, 1.2]\n",
      "[5.7, 2.9, 4.2, 1.3]\n",
      "[6.2, 2.9, 4.3, 1.3]\n",
      "[5.1, 2.5, 3.0, 1.1]\n",
      "[5.7, 2.8, 4.1, 1.3]\n",
      "[6.3, 3.3, 6.0, 2.5]\n",
      "[5.8, 2.7, 5.1, 1.9]\n",
      "[7.1, 3.0, 5.9, 2.1]\n",
      "[6.3, 2.9, 5.6, 1.8]\n",
      "[6.5, 3.0, 5.8, 2.2]\n",
      "[7.6, 3.0, 6.6, 2.1]\n",
      "[4.9, 2.5, 4.5, 1.7]\n",
      "[7.3, 2.9, 6.3, 1.8]\n",
      "[6.7, 2.5, 5.8, 1.8]\n",
      "[7.2, 3.6, 6.1, 2.5]\n",
      "[6.5, 3.2, 5.1, 2.0]\n",
      "[6.4, 2.7, 5.3, 1.9]\n",
      "[6.8, 3.0, 5.5, 2.1]\n",
      "[5.7, 2.5, 5.0, 2.0]\n",
      "[5.8, 2.8, 5.1, 2.4]\n",
      "[6.4, 3.2, 5.3, 2.3]\n",
      "[6.5, 3.0, 5.5, 1.8]\n",
      "[7.7, 3.8, 6.7, 2.2]\n",
      "[7.7, 2.6, 6.9, 2.3]\n",
      "[6.0, 2.2, 5.0, 1.5]\n",
      "[6.9, 3.2, 5.7, 2.3]\n",
      "[5.6, 2.8, 4.9, 2.0]\n",
      "[7.7, 2.8, 6.7, 2.0]\n",
      "[6.3, 2.7, 4.9, 1.8]\n",
      "[6.7, 3.3, 5.7, 2.1]\n",
      "[7.2, 3.2, 6.0, 1.8]\n",
      "[6.2, 2.8, 4.8, 1.8]\n",
      "[6.1, 3.0, 4.9, 1.8]\n",
      "[6.4, 2.8, 5.6, 2.1]\n",
      "[7.2, 3.0, 5.8, 1.6]\n",
      "[7.4, 2.8, 6.1, 1.9]\n",
      "[7.9, 3.8, 6.4, 2.0]\n",
      "[6.4, 2.8, 5.6, 2.2]\n",
      "[6.3, 2.8, 5.1, 1.5]\n",
      "[6.1, 2.6, 5.6, 1.4]\n",
      "[7.7, 3.0, 6.1, 2.3]\n",
      "[6.3, 3.4, 5.6, 2.4]\n",
      "[6.4, 3.1, 5.5, 1.8]\n",
      "[6.0, 3.0, 4.8, 1.8]\n",
      "[6.9, 3.1, 5.4, 2.1]\n",
      "[6.7, 3.1, 5.6, 2.4]\n",
      "[6.9, 3.1, 5.1, 2.3]\n",
      "[5.8, 2.7, 5.1, 1.9]\n",
      "[6.8, 3.2, 5.9, 2.3]\n",
      "[6.7, 3.3, 5.7, 2.5]\n",
      "[6.7, 3.0, 5.2, 2.3]\n",
      "[6.3, 2.5, 5.0, 1.9]\n",
      "[6.5, 3.0, 5.2, 2.0]\n",
      "[6.2, 3.4, 5.4, 2.3]\n",
      "[5.9, 3.0, 5.1, 1.8]\n",
      "150\n"
     ]
    }
   ],
   "source": [
    "amostras=[]\n",
    "tmp=[]\n",
    "saidas=[]\n",
    "\n",
    "if\n",
    "\n",
    "for line in open('iris.csv'):\n",
    "    a, b, c, d, e = line.split(',')\n",
    "    \n",
    "    if(True):\n",
    "        if(e.rstrip()=='Iris-setosa'):\n",
    "            saidas.append(int(1))       \n",
    "        if(e.rstrip()=='Iris-versicolor'):\n",
    "            saidas.append(int(-1))\n",
    "        if(e.rstrip()=='Iris-virginica'):\n",
    "            saidas.append(int(0))\n",
    "        \n",
    "        tmp.append(float(a))\n",
    "        tmp.append(float(b))\n",
    "        tmp.append(float(c))\n",
    "        tmp.append(float(d))\n",
    "        print(tmp)\n",
    "\n",
    "        amostras.append(tmp)\n",
    "        \n",
    "    tmp=[]\n",
    "\n",
    "print(t)\n",
    "    "
   ]
  },
  {
   "cell_type": "code",
   "execution_count": 62,
   "metadata": {
    "scrolled": true
   },
   "outputs": [
    {
     "name": "stdout",
     "output_type": "stream",
     "text": [
      "[[5.1, 3.5, 1.4, 0.2], [4.9, 3.0, 1.4, 0.2], [4.7, 3.2, 1.3, 0.2], [4.6, 3.1, 1.5, 0.2], [5.0, 3.6, 1.4, 0.2], [5.4, 3.9, 1.7, 0.4], [4.6, 3.4, 1.4, 0.3], [5.0, 3.4, 1.5, 0.2], [4.4, 2.9, 1.4, 0.2], [4.9, 3.1, 1.5, 0.1], [5.4, 3.7, 1.5, 0.2], [4.8, 3.4, 1.6, 0.2], [4.8, 3.0, 1.4, 0.1], [4.3, 3.0, 1.1, 0.1], [5.8, 4.0, 1.2, 0.2], [5.7, 4.4, 1.5, 0.4], [5.4, 3.9, 1.3, 0.4], [5.1, 3.5, 1.4, 0.3], [5.7, 3.8, 1.7, 0.3], [5.1, 3.8, 1.5, 0.3], [5.4, 3.4, 1.7, 0.2], [5.1, 3.7, 1.5, 0.4], [4.6, 3.6, 1.0, 0.2], [5.1, 3.3, 1.7, 0.5], [4.8, 3.4, 1.9, 0.2], [5.0, 3.0, 1.6, 0.2], [5.0, 3.4, 1.6, 0.4], [5.2, 3.5, 1.5, 0.2], [5.2, 3.4, 1.4, 0.2], [4.7, 3.2, 1.6, 0.2], [4.8, 3.1, 1.6, 0.2], [5.4, 3.4, 1.5, 0.4], [5.2, 4.1, 1.5, 0.1], [5.5, 4.2, 1.4, 0.2], [4.9, 3.1, 1.5, 0.1], [5.0, 3.2, 1.2, 0.2], [5.5, 3.5, 1.3, 0.2], [4.9, 3.1, 1.5, 0.1], [4.4, 3.0, 1.3, 0.2], [5.1, 3.4, 1.5, 0.2], [5.0, 3.5, 1.3, 0.3], [4.5, 2.3, 1.3, 0.3], [4.4, 3.2, 1.3, 0.2], [5.0, 3.5, 1.6, 0.6], [5.1, 3.8, 1.9, 0.4], [4.8, 3.0, 1.4, 0.3], [5.1, 3.8, 1.6, 0.2], [4.6, 3.2, 1.4, 0.2], [5.3, 3.7, 1.5, 0.2], [5.0, 3.3, 1.4, 0.2], [7.0, 3.2, 4.7, 1.4], [6.4, 3.2, 4.5, 1.5], [6.9, 3.1, 4.9, 1.5], [5.5, 2.3, 4.0, 1.3], [6.5, 2.8, 4.6, 1.5], [5.7, 2.8, 4.5, 1.3], [6.3, 3.3, 4.7, 1.6], [4.9, 2.4, 3.3, 1.0], [6.6, 2.9, 4.6, 1.3], [5.2, 2.7, 3.9, 1.4], [5.0, 2.0, 3.5, 1.0], [5.9, 3.0, 4.2, 1.5], [6.0, 2.2, 4.0, 1.0], [6.1, 2.9, 4.7, 1.4], [5.6, 2.9, 3.6, 1.3], [6.7, 3.1, 4.4, 1.4], [5.6, 3.0, 4.5, 1.5], [5.8, 2.7, 4.1, 1.0], [6.2, 2.2, 4.5, 1.5], [5.6, 2.5, 3.9, 1.1], [5.9, 3.2, 4.8, 1.8], [6.1, 2.8, 4.0, 1.3], [6.3, 2.5, 4.9, 1.5], [6.1, 2.8, 4.7, 1.2], [6.4, 2.9, 4.3, 1.3], [6.6, 3.0, 4.4, 1.4], [6.8, 2.8, 4.8, 1.4], [6.7, 3.0, 5.0, 1.7], [6.0, 2.9, 4.5, 1.5], [5.7, 2.6, 3.5, 1.0], [5.5, 2.4, 3.8, 1.1], [5.5, 2.4, 3.7, 1.0], [5.8, 2.7, 3.9, 1.2], [6.0, 2.7, 5.1, 1.6], [5.4, 3.0, 4.5, 1.5], [6.0, 3.4, 4.5, 1.6], [6.7, 3.1, 4.7, 1.5], [6.3, 2.3, 4.4, 1.3], [5.6, 3.0, 4.1, 1.3], [5.5, 2.5, 4.0, 1.3], [5.5, 2.6, 4.4, 1.2], [6.1, 3.0, 4.6, 1.4], [5.8, 2.6, 4.0, 1.2], [5.0, 2.3, 3.3, 1.0], [5.6, 2.7, 4.2, 1.3], [5.7, 3.0, 4.2, 1.2], [5.7, 2.9, 4.2, 1.3], [6.2, 2.9, 4.3, 1.3], [5.1, 2.5, 3.0, 1.1], [5.7, 2.8, 4.1, 1.3], [6.3, 3.3, 6.0, 2.5], [5.8, 2.7, 5.1, 1.9], [7.1, 3.0, 5.9, 2.1], [6.3, 2.9, 5.6, 1.8], [6.5, 3.0, 5.8, 2.2], [7.6, 3.0, 6.6, 2.1], [4.9, 2.5, 4.5, 1.7], [7.3, 2.9, 6.3, 1.8], [6.7, 2.5, 5.8, 1.8], [7.2, 3.6, 6.1, 2.5], [6.5, 3.2, 5.1, 2.0], [6.4, 2.7, 5.3, 1.9], [6.8, 3.0, 5.5, 2.1], [5.7, 2.5, 5.0, 2.0], [5.8, 2.8, 5.1, 2.4], [6.4, 3.2, 5.3, 2.3], [6.5, 3.0, 5.5, 1.8], [7.7, 3.8, 6.7, 2.2], [7.7, 2.6, 6.9, 2.3], [6.0, 2.2, 5.0, 1.5], [6.9, 3.2, 5.7, 2.3], [5.6, 2.8, 4.9, 2.0], [7.7, 2.8, 6.7, 2.0], [6.3, 2.7, 4.9, 1.8], [6.7, 3.3, 5.7, 2.1], [7.2, 3.2, 6.0, 1.8], [6.2, 2.8, 4.8, 1.8], [6.1, 3.0, 4.9, 1.8], [6.4, 2.8, 5.6, 2.1], [7.2, 3.0, 5.8, 1.6], [7.4, 2.8, 6.1, 1.9], [7.9, 3.8, 6.4, 2.0], [6.4, 2.8, 5.6, 2.2], [6.3, 2.8, 5.1, 1.5], [6.1, 2.6, 5.6, 1.4], [7.7, 3.0, 6.1, 2.3], [6.3, 3.4, 5.6, 2.4], [6.4, 3.1, 5.5, 1.8], [6.0, 3.0, 4.8, 1.8], [6.9, 3.1, 5.4, 2.1], [6.7, 3.1, 5.6, 2.4], [6.9, 3.1, 5.1, 2.3], [5.8, 2.7, 5.1, 1.9], [6.8, 3.2, 5.9, 2.3], [6.7, 3.3, 5.7, 2.5], [6.7, 3.0, 5.2, 2.3], [6.3, 2.5, 5.0, 1.9], [6.5, 3.0, 5.2, 2.0], [6.2, 3.4, 5.4, 2.3], [5.9, 3.0, 5.1, 1.8]]\n",
      "[1, 1, 1, 1, 1, 1, 1, 1, 1, 1, 1, 1, 1, 1, 1, 1, 1, 1, 1, 1, 1, 1, 1, 1, 1, 1, 1, 1, 1, 1, 1, 1, 1, 1, 1, 1, 1, 1, 1, 1, 1, 1, 1, 1, 1, 1, 1, 1, 1, 1, -1, -1, -1, -1, -1, -1, -1, -1, -1, -1, -1, -1, -1, -1, -1, -1, -1, -1, -1, -1, -1, -1, -1, -1, -1, -1, -1, -1, -1, -1, -1, -1, -1, -1, -1, -1, -1, -1, -1, -1, -1, -1, -1, -1, -1, -1, -1, -1, -1, -1, 0, 0, 0, 0, 0, 0, 0, 0, 0, 0, 0, 0, 0, 0, 0, 0, 0, 0, 0, 0, 0, 0, 0, 0, 0, 0, 0, 0, 0, 0, 0, 0, 0, 0, 0, 0, 0, 0, 0, 0, 0, 0, 0, 0, 0, 0, 0, 0, 0, 0]\n",
      "75\n",
      "75\n",
      "Yes A\n",
      "DIFERNCA=  0\n"
     ]
    }
   ],
   "source": [
    "XX=[]\n",
    "YY=[]\n",
    "XX = amostras[0:150:2] # 100 primeiras sao setosa e versicolor\n",
    "YY = saidas[0:150:2] # 100 primeiras estão classificadas como 1 e -1\n",
    "print(amostras)\n",
    "print(saidas)\n",
    "print(len(XX))\n",
    "print(len(YY))\n",
    "if [5.5, 2.5, 4.0, 1.3] in amostras:\n",
    "    print('Yes A')\n",
    "if [5.5, 2.5, 4.0, 1.3] in XX:\n",
    "    print('Yes XX')\n",
    "\n",
    "print('DIFERNCA= ',len(XX)-len(YY))\n",
    "if len(XX)-len(YY)==0 :\n",
    "   rede = Perceptron(XX, YY, taxa_aprendizado=0.5)\n",
    "   rede.treinar()\n",
    "   #rede.teste([5.4, 3.4, 1.7, 0.2])"
   ]
  },
  {
   "cell_type": "code",
   "execution_count": 63,
   "metadata": {},
   "outputs": [
    {
     "name": "stdout",
     "output_type": "stream",
     "text": [
      "[5.5, 2.5, 4.0, 1.3] -1\n"
     ]
    },
    {
     "data": {
      "text/plain": [
       "-1"
      ]
     },
     "execution_count": 63,
     "metadata": {},
     "output_type": "execute_result"
    }
   ],
   "source": [
    "tt = [5.5, 2.5, 4.0, 1.3]\n",
    "\n",
    "for j in range(len(amostras)):\n",
    "    if amostras[j] == tt:\n",
    "        print(amostras[j], saidas[j])\n",
    "        \n",
    "rede.testar(tt)"
   ]
  },
  {
   "cell_type": "code",
   "execution_count": 55,
   "metadata": {},
   "outputs": [
    {
     "name": "stdout",
     "output_type": "stream",
     "text": [
      "Yes A\n"
     ]
    }
   ],
   "source": [
    "if tt in amostras:\n",
    "    print('Yes A')\n",
    "if tt in XX:\n",
    "    print('Yes XX')"
   ]
  },
  {
   "cell_type": "code",
   "execution_count": 60,
   "metadata": {},
   "outputs": [],
   "source": [
    "rede.treinar()"
   ]
  },
  {
   "cell_type": "code",
   "execution_count": 64,
   "metadata": {},
   "outputs": [
    {
     "data": {
      "text/plain": [
       "[[5.1, 3.5, 1.4, 0.2],\n",
       " [4.7, 3.2, 1.3, 0.2],\n",
       " [5.0, 3.6, 1.4, 0.2],\n",
       " [4.6, 3.4, 1.4, 0.3],\n",
       " [4.4, 2.9, 1.4, 0.2],\n",
       " [5.4, 3.7, 1.5, 0.2],\n",
       " [4.8, 3.0, 1.4, 0.1],\n",
       " [5.8, 4.0, 1.2, 0.2],\n",
       " [5.4, 3.9, 1.3, 0.4],\n",
       " [5.7, 3.8, 1.7, 0.3],\n",
       " [5.4, 3.4, 1.7, 0.2],\n",
       " [4.6, 3.6, 1.0, 0.2],\n",
       " [4.8, 3.4, 1.9, 0.2],\n",
       " [5.0, 3.4, 1.6, 0.4],\n",
       " [5.2, 3.4, 1.4, 0.2],\n",
       " [4.8, 3.1, 1.6, 0.2],\n",
       " [5.2, 4.1, 1.5, 0.1],\n",
       " [4.9, 3.1, 1.5, 0.1],\n",
       " [5.5, 3.5, 1.3, 0.2],\n",
       " [4.4, 3.0, 1.3, 0.2],\n",
       " [5.0, 3.5, 1.3, 0.3],\n",
       " [4.4, 3.2, 1.3, 0.2],\n",
       " [5.1, 3.8, 1.9, 0.4],\n",
       " [5.1, 3.8, 1.6, 0.2],\n",
       " [5.3, 3.7, 1.5, 0.2],\n",
       " [7.0, 3.2, 4.7, 1.4],\n",
       " [6.9, 3.1, 4.9, 1.5],\n",
       " [6.5, 2.8, 4.6, 1.5],\n",
       " [6.3, 3.3, 4.7, 1.6],\n",
       " [6.6, 2.9, 4.6, 1.3],\n",
       " [5.0, 2.0, 3.5, 1.0],\n",
       " [6.0, 2.2, 4.0, 1.0],\n",
       " [5.6, 2.9, 3.6, 1.3],\n",
       " [5.6, 3.0, 4.5, 1.5],\n",
       " [6.2, 2.2, 4.5, 1.5],\n",
       " [5.9, 3.2, 4.8, 1.8],\n",
       " [6.3, 2.5, 4.9, 1.5],\n",
       " [6.4, 2.9, 4.3, 1.3],\n",
       " [6.8, 2.8, 4.8, 1.4],\n",
       " [6.0, 2.9, 4.5, 1.5],\n",
       " [5.5, 2.4, 3.8, 1.1],\n",
       " [5.8, 2.7, 3.9, 1.2],\n",
       " [5.4, 3.0, 4.5, 1.5],\n",
       " [6.7, 3.1, 4.7, 1.5],\n",
       " [5.6, 3.0, 4.1, 1.3],\n",
       " [5.5, 2.6, 4.4, 1.2],\n",
       " [5.8, 2.6, 4.0, 1.2],\n",
       " [5.6, 2.7, 4.2, 1.3],\n",
       " [5.7, 2.9, 4.2, 1.3],\n",
       " [5.1, 2.5, 3.0, 1.1],\n",
       " [6.3, 3.3, 6.0, 2.5],\n",
       " [7.1, 3.0, 5.9, 2.1],\n",
       " [6.5, 3.0, 5.8, 2.2],\n",
       " [4.9, 2.5, 4.5, 1.7],\n",
       " [6.7, 2.5, 5.8, 1.8],\n",
       " [6.5, 3.2, 5.1, 2.0],\n",
       " [6.8, 3.0, 5.5, 2.1],\n",
       " [5.8, 2.8, 5.1, 2.4],\n",
       " [6.5, 3.0, 5.5, 1.8],\n",
       " [7.7, 2.6, 6.9, 2.3],\n",
       " [6.9, 3.2, 5.7, 2.3],\n",
       " [7.7, 2.8, 6.7, 2.0],\n",
       " [6.7, 3.3, 5.7, 2.1],\n",
       " [6.2, 2.8, 4.8, 1.8],\n",
       " [6.4, 2.8, 5.6, 2.1],\n",
       " [7.4, 2.8, 6.1, 1.9],\n",
       " [6.4, 2.8, 5.6, 2.2],\n",
       " [6.1, 2.6, 5.6, 1.4],\n",
       " [6.3, 3.4, 5.6, 2.4],\n",
       " [6.0, 3.0, 4.8, 1.8],\n",
       " [6.7, 3.1, 5.6, 2.4],\n",
       " [5.8, 2.7, 5.1, 1.9],\n",
       " [6.7, 3.3, 5.7, 2.5],\n",
       " [6.3, 2.5, 5.0, 1.9],\n",
       " [6.2, 3.4, 5.4, 2.3]]"
      ]
     },
     "execution_count": 64,
     "metadata": {},
     "output_type": "execute_result"
    }
   ],
   "source": [
    "XX"
   ]
  },
  {
   "cell_type": "code",
   "execution_count": 26,
   "metadata": {},
   "outputs": [
    {
     "data": {
      "text/plain": [
       "[-9.29999999999987,\n",
       " -2.8821217102637564,\n",
       " 1.3657689063033986,\n",
       " 1.7316321521148348,\n",
       " -0.5143443364716023]"
      ]
     },
     "execution_count": 26,
     "metadata": {},
     "output_type": "execute_result"
    }
   ],
   "source": [
    "rede.pesos"
   ]
  },
  {
   "cell_type": "code",
   "execution_count": 29,
   "metadata": {},
   "outputs": [
    {
     "name": "stdout",
     "output_type": "stream",
     "text": [
      "0\n",
      "1\n"
     ]
    }
   ],
   "source": [
    "for  i in range(2):\n",
    "    print(i)"
   ]
  },
  {
   "cell_type": "code",
   "execution_count": 66,
   "metadata": {},
   "outputs": [],
   "source": [
    "amostra = []\n",
    "amostra.append([1, 1, 1])\n",
    "amostra.append([1, 1, -1])\n",
    "amostra.append([1, -1, 1])\n",
    "amostra.append([1, -1, -1])\n",
    "amostra.append([-1, 1, 1])\n",
    "amostra.append([-1, 1, -1])\n",
    "amostra.append([-1, -1, 1])\n",
    "#amostra.append([-1, -1, -1])"
   ]
  },
  {
   "cell_type": "code",
   "execution_count": 67,
   "metadata": {},
   "outputs": [
    {
     "data": {
      "text/plain": [
       "[[1, 1, 1],\n",
       " [1, 1, -1],\n",
       " [1, -1, 1],\n",
       " [1, -1, -1],\n",
       " [-1, 1, 1],\n",
       " [-1, 1, -1],\n",
       " [-1, -1, 1]]"
      ]
     },
     "execution_count": 67,
     "metadata": {},
     "output_type": "execute_result"
    }
   ],
   "source": [
    "amostra"
   ]
  },
  {
   "cell_type": "code",
   "execution_count": 68,
   "metadata": {},
   "outputs": [],
   "source": [
    "saidas = []\n",
    "saidas.append([0, 0, 0, 0, 1, 1, 1])#, 1])\n",
    "saidas.append([0, 0, 1, 1, 0, 0, 1])#, 1])"
   ]
  },
  {
   "cell_type": "code",
   "execution_count": 69,
   "metadata": {},
   "outputs": [
    {
     "data": {
      "text/plain": [
       "[[0, 0, 0, 0, 1, 1, 1], [0, 0, 1, 1, 0, 0, 1]]"
      ]
     },
     "execution_count": 69,
     "metadata": {},
     "output_type": "execute_result"
    }
   ],
   "source": [
    "saidas"
   ]
  },
  {
   "cell_type": "code",
   "execution_count": 70,
   "metadata": {},
   "outputs": [],
   "source": [
    "rede = NeuralNet(amostra, saidas)"
   ]
  },
  {
   "cell_type": "code",
   "execution_count": 71,
   "metadata": {},
   "outputs": [
    {
     "data": {
      "text/plain": [
       "2"
      ]
     },
     "execution_count": 71,
     "metadata": {},
     "output_type": "execute_result"
    }
   ],
   "source": [
    "rede.n_neurons"
   ]
  },
  {
   "cell_type": "code",
   "execution_count": 72,
   "metadata": {},
   "outputs": [],
   "source": [
    "rede.treinarRede()"
   ]
  },
  {
   "cell_type": "code",
   "execution_count": 74,
   "metadata": {},
   "outputs": [
    {
     "data": {
      "text/plain": [
       "[1, -1]"
      ]
     },
     "execution_count": 74,
     "metadata": {},
     "output_type": "execute_result"
    }
   ],
   "source": [
    "rede.testarRede([-1, 1, -1])"
   ]
  },
  {
   "cell_type": "code",
   "execution_count": 112,
   "metadata": {},
   "outputs": [],
   "source": [
    "'''Entradas'''\n",
    "amostra = []\n",
    "amostra.append([1, 1, 1])\n",
    "amostra.append([1, 1, -1])\n",
    "amostra.append([1, -1, 1])\n",
    "amostra.append([1, -1, -1])\n",
    "amostra.append([-1, 1, 1])\n",
    "amostra.append([-1, 1, -1])\n",
    "amostra.append([-1, -1, 1])\n",
    "#amostra.append([-1, -1, -1])\n",
    "\n",
    "saidas = []\n",
    "'''Dois neuronios\n",
    "    \n",
    "    Saidas    Categoria\n",
    "    \n",
    "     0, 0      Diamante\n",
    "     0, 1      Ouro\n",
    "     1, 0      Prata\n",
    "     1, 0      Bronze           \n",
    "   \n",
    "#saidas.append([0, 0, 0, 0, 1, 1, 1, 1])\n",
    "#saidas.append([0, 0, 1, 1, 0, 0, 1, 1])\n",
    "'''\n",
    "saidas.append([0, 0, 0, 0, 1, 1, 1])\n",
    "saidas.append([0, 0, 1, 1, 0, 0, 1])\n",
    "\n",
    "'''4 neuronios\n",
    "\n",
    "    Saidas                        Categoria\n",
    "    \n",
    "    1, 0, 0, 0                     Diamante\n",
    "    0, 1, 0, 0                     Ouro\n",
    "    0, 0, 1, 0                     Prata\n",
    "    0, 0, 0, 1                     Bronze\n",
    "    \n",
    "\n",
    "\n",
    "saidas.append([1, 1, 0, 0, 0, 0, 0, 0])\n",
    "saidas.append([0, 0, 1, 1, 0, 0, 0, 0])\n",
    "saidas.append([0, 0, 0, 0, 1, 1, 0, 0])\n",
    "saidas.append([0, 0, 0, 0, 0, 0, 1, 1])\n",
    "\n",
    "\n",
    "saidas.append([1, 1, 0, 0, 0, 0, 0])\n",
    "saidas.append([0, 0, 1, 1, 0, 0, 0])\n",
    "saidas.append([0, 0, 0, 0, 1, 1, 0])\n",
    "saidas.append([0, 0, 0, 0, 0, 0, 1])\n",
    "'''\n",
    "\n",
    "rede = NeuralNet(amostra, saidas)\n",
    "rede.treinarRede()\n",
    "\n"
   ]
  },
  {
   "cell_type": "code",
   "execution_count": 115,
   "metadata": {},
   "outputs": [
    {
     "data": {
      "text/plain": [
       "[1, 1]"
      ]
     },
     "execution_count": 115,
     "metadata": {},
     "output_type": "execute_result"
    }
   ],
   "source": [
    "rede.testarRede([-1, -1, -1])"
   ]
  },
  {
   "cell_type": "code",
   "execution_count": null,
   "metadata": {},
   "outputs": [],
   "source": []
  }
 ],
 "metadata": {
  "kernelspec": {
   "display_name": "Python 3",
   "language": "python",
   "name": "python3"
  },
  "language_info": {
   "codemirror_mode": {
    "name": "ipython",
    "version": 3
   },
   "file_extension": ".py",
   "mimetype": "text/x-python",
   "name": "python",
   "nbconvert_exporter": "python",
   "pygments_lexer": "ipython3",
   "version": "3.7.3"
  }
 },
 "nbformat": 4,
 "nbformat_minor": 2
}
