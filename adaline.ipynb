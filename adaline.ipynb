{
 "cells": [
  {
   "cell_type": "code",
   "execution_count": 221,
   "metadata": {
    "collapsed": false
   },
   "outputs": [],
   "source": [
    "import numpy as np\n",
    "import matplotlib.pyplot as plt\n",
    "import random\n",
    "import math\n",
    "\n",
    "#max_int: quantidade de épocas\n",
    "#E: quantidade de erros comeridos\n",
    "#a: taxa de aprendizado\n",
    "#X: vetor de amostras\n",
    "#d: saídas conhecidas\n",
    "#epsilon: precisão\n",
    "\n",
    "def calcula_MSE (y,d,X):\n",
    "    MSE = 0\n",
    "    for i in range(4):\n",
    "        MSE += math.pow((d[i] - y[i]),2)\n",
    "    MSE = MSE/(len(X))\n",
    "    return MSE\n",
    "\n",
    "def adaline(max_it, epsilon, a , X, d):\n",
    "    pesos = []\n",
    "    bias= 0\n",
    "    y = []\n",
    "    e = []\n",
    "    t = 1\n",
    "    \n",
    "    for i in range(2):\n",
    "        #pesos.append(random.random())\n",
    "        pesos.append(0.7)\n",
    "    for i in range(4):\n",
    "        y.append(0)\n",
    "    for i in range(4):\n",
    "        e.append(0)\n",
    "        \n",
    "    #bias = random.random()\n",
    "    bias = 0.5\n",
    "    \n",
    "    print(pesos)\n",
    "    print(bias)\n",
    "    \n",
    "    delta_MSE = 9\n",
    "                        \n",
    "    while(t < max_it and delta_MSE > epsilon):\n",
    "        MSE_inicial = calcula_MSE(y,d,X)\n",
    "        for i in range(len(X)):\n",
    "            u = bias\n",
    "            for j in range(2):\n",
    "                u +=  X[i][j]*pesos[j]\n",
    "            if(u > 0):\n",
    "                y[i] = 1\n",
    "            if(u<0):\n",
    "                y[i] = -1\n",
    "            e[i] = d[i] - y[i]\n",
    "            for k in range(2):\n",
    "                pesos[k] += a * e[i] * X[i][k]\n",
    "            bias += a * e[i]\n",
    "        MSE_final = calcula_MSE(y,d,X)\n",
    "        delta_MSE = MSE_final - MSE_inicial\n",
    "        t += 1\n",
    "    return pesos, bias"
   ]
  },
  {
   "cell_type": "code",
   "execution_count": 222,
   "metadata": {
    "collapsed": false
   },
   "outputs": [
    {
     "name": "stdout",
     "output_type": "stream",
     "text": [
      "[0.7, 0.7]\n",
      "0.5\n"
     ]
    },
    {
     "data": {
      "image/png": "[encoded data removed]",
      "text/plain": [
       "<matplotlib.figure.Figure at 0x86723c8>"
      ]
     },
     "metadata": {},
     "output_type": "display_data"
    }
   ],
   "source": [
    "def plotar(w1,w2,bias,title):\n",
    "    xvals = np.arange(-1, 3, 0.01)     \n",
    "    newyvals = (((xvals * w2) * - 1) - bias) / w1\n",
    "    plt.plot(xvals, newyvals, 'r-')    \n",
    "    plt.title(title)\n",
    "    plt.xlabel('X1')\n",
    "    plt.ylabel('X2')\n",
    "    plt.axis([-1,2,-1,2])\n",
    "    plt.plot([0,1,0],[0,0,1], 'b^')\n",
    "    plt.plot([1],[1], 'go')\n",
    "    plt.xticks([0,1])\n",
    "    plt.yticks([0,1])\n",
    "    plt.show()\n",
    "    \n",
    "def main():\n",
    "    X = [[1,1],[1,0],[0,1],[0,0]]\n",
    "    d = [1,-1,-1,-1]\n",
    "    \n",
    "    # Implemente a função Adaline que deve retornar o vetor de pesos e o bias, respectivamente.\n",
    "    pesos, bias = adaline(max_it=100, epsilon=.0000001, a=.1, X=X, d=d)\n",
    "    plotar(pesos[0],pesos[1],bias,\"Porta lógica AND com Adaline\")\n",
    "    \n",
    "\n",
    "if __name__ == '__main__':\n",
    "    main()"
   ]
  },
  {
   "cell_type": "code",
   "execution_count": null,
   "metadata": {
    "collapsed": true
   },
   "outputs": [],
   "source": []
  }
 ],
 "metadata": {
  "kernelspec": {
   "display_name": "Python 3",
   "language": "python",
   "name": "python3"
  },
  "language_info": {
   "codemirror_mode": {
    "name": "ipython",
    "version": 3
   },
   "file_extension": ".py",
   "mimetype": "text/x-python",
   "name": "python",
   "nbconvert_exporter": "python",
   "pygments_lexer": "ipython3",
   "version": "3.6.0"
  }
 },
 "nbformat": 4,
 "nbformat_minor": 2
}
